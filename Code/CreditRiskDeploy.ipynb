{
 "cells": [
  {
   "cell_type": "markdown",
   "metadata": {},
   "source": [
    "---\n",
    "title: \"Deploy a Credit Risk Model as a Web Service\"\n",
    "author: \"Fang Zhou, Data Scientist, Microsoft\"\n",
    "date: \"`r Sys.Date()`\"\n",
    "output: html_document\n",
    "---"
   ]
  },
  {
   "cell_type": "code",
   "execution_count": null,
   "metadata": {
    "attributes": {
     "classes": [],
     "id": "",
     "include": "FALSE,",
     "purl": "FALSE"
    }
   },
   "outputs": [],
   "source": [
    "knitr::opts_chunk$set(echo = TRUE,\n",
    "                      fig.width = 8,\n",
    "                      fig.height = 5,\n",
    "                      fig.align='center',\n",
    "                      dev = \"png\")"
   ]
  },
  {
   "cell_type": "markdown",
   "metadata": {},
   "source": [
    "## 1 Introduction\n",
    "\n",
    "The `mrsdeploy` package, delivered with Microsoft R Client and R Server, provides functions for:\n",
    "\n",
    "**1** Establishing a remote session in a R console application for the purposes of executing code on that server\n",
    "\n",
    "**2** Publishing and managing an R web service that is backed by the R code block or script you provided. \n",
    "\n",
    "Each feature can be used independently, but the greatest value is achieved when you can leverage both.\n",
    "\n",
    "This document will walk through you how to deploy a credit risk model as a web service, using the `mrsdeploy` package.\n",
    "\n",
    "It will start by modelling locally, then publish it as a web service, and then share it with other authenticated users for consumption, and finally manage and update the web service. \n",
    "\n",
    "## 2 Automated Credit Risk Model Deployment\n",
    "\n",
    "### 2.1 Setup\n",
    "\n",
    "We load the required R packages."
   ]
  },
  {
   "cell_type": "code",
   "execution_count": null,
   "metadata": {
    "attributes": {
     "classes": [],
     "error": "FALSE",
     "id": "",
     "message": "FALSE,",
     "warning": "FALSE,"
    }
   },
   "outputs": [],
   "source": [
    "## Setup\n",
    "\n",
    "# Load the required packages into the R session.\n",
    "\n",
    "library(rattle)       # Use normVarNames().\n",
    "library(dplyr)        # Wrangling: tbl_df(), group_by(), print(), glimpse().\n",
    "library(magrittr)     # Pipe operator %>% %<>% %T>% equals().\n",
    "library(scales)       # Include commas in numbers.\n",
    "library(MicrosoftML)  # Build models using Microsoft ML algortihms.\n",
    "library(mrsdeploy)    # Publish an R model as a web service."
   ]
  },
  {
   "cell_type": "markdown",
   "metadata": {},
   "source": [
    "Then, the dataset processedSimu is ingested for demonstration. This dataset was created by the data preprocessing steps in the data science accelerator for credit risk prediction."
   ]
  },
  {
   "cell_type": "code",
   "execution_count": null,
   "metadata": {
    "attributes": {
     "classes": [],
     "error": "FALSE",
     "id": "",
     "message": "FALSE,",
     "warning": "FALSE,"
    }
   },
   "outputs": [],
   "source": [
    "## Data Ingestion\n",
    "\n",
    "# Identify the source location of the dataset.\n",
    "\n",
    "#DATA <- \"../../Data/\"\n",
    "#txn_fname <- file.path(DATA, \"Raw/processedSimu.csv\")\n",
    "\n",
    "wd <- getwd()\n",
    "\n",
    "dpath <- \"../Data\"\n",
    "data_fname <- file.path(wd, dpath, \"processedSimu.csv\")\n",
    "\n",
    "# Ingest the dataset.\n",
    "\n",
    "data <- read.csv(file=data_fname) %T>% \n",
    "  {dim(.) %>% comma() %>% cat(\"\\n\")}\n",
    "\n",
    "# A glimpse into the data.\n",
    "\n",
    "glimpse(data)"
   ]
  },
  {
   "cell_type": "markdown",
   "metadata": {},
   "source": [
    "### 2.2 Model Locally\n",
    "\n",
    "Now, let's get started to build an R model based web service. \n",
    "\n",
    "First of all, we create a machine learning fast tree model on the dataset processedSimu by using the function `rxFastTrees()` from the `MicrosoftML` package. This model could be used to predict whether an account will default or to predict its probability of default, given some transaction statistics and demographic & bank account information as inputs."
   ]
  },
  {
   "cell_type": "code",
   "execution_count": null,
   "metadata": {
    "attributes": {
     "classes": [],
     "error": "FALSE",
     "id": "",
     "message": "FALSE,",
     "warning": "FALSE,"
    }
   },
   "outputs": [],
   "source": [
    "## Variable roles.\n",
    "\n",
    "# Target variable\n",
    "\n",
    "target <- \"bad_flag\"\n",
    "\n",
    "# Note any identifier.\n",
    "\n",
    "id <- c(\"account_id\") %T>% print() \n",
    "\n",
    "# Note the available variables as model inputs.\n",
    "\n",
    "vars <- setdiff(names(data), c(target, id))"
   ]
  },
  {
   "cell_type": "code",
   "execution_count": null,
   "metadata": {
    "attributes": {
     "classes": [],
     "error": "FALSE",
     "id": "",
     "message": "FALSE,",
     "warning": "FALSE,"
    }
   },
   "outputs": [],
   "source": [
    "# Split Data\n",
    "\n",
    "set.seed(42)\n",
    "\n",
    "data <- data[order(runif(nrow(data))), ]\n",
    "\n",
    "train <- sample(nrow(data), 0.70 * nrow(data))\n",
    "test <- setdiff(seq_len(nrow(data)), train)"
   ]
  },
  {
   "cell_type": "code",
   "execution_count": null,
   "metadata": {
    "attributes": {
     "classes": [],
     "error": "FALSE",
     "id": "",
     "message": "FALSE,",
     "warning": "FALSE,"
    }
   },
   "outputs": [],
   "source": [
    "# Prepare the formula\n",
    "\n",
    "top_vars <- c(\"amount_6\", \"pur_6\", \"avg_pur_amt_6\", \"avg_interval_pur_6\", \"credit_limit\", \"age\", \"income\", \"sex\", \"education\", \"marital_status\")\n",
    "\n",
    "form <- as.formula(paste(target, paste(top_vars, collapse=\"+\"), sep=\"~\"))\n",
    "form"
   ]
  },
  {
   "cell_type": "code",
   "execution_count": null,
   "metadata": {
    "attributes": {
     "classes": [],
     "error": "FALSE",
     "id": "",
     "message": "FALSE,",
     "warning": "FALSE,"
    }
   },
   "outputs": [],
   "source": [
    "# Train model: rxFastTrees\n",
    "\n",
    "model_rxtrees <- rxFastTrees(formula=form,\n",
    "                             data=data[train, c(target, vars)],\n",
    "                             type=\"binary\",\n",
    "                             numTrees=100,\n",
    "                             numLeaves=20,\n",
    "                             learningRate=0.2,\n",
    "                             minSplit=10,\n",
    "                             unbalancedSets=FALSE,\n",
    "                             verbose=0)\n",
    "\n",
    "model_rxtrees"
   ]
  },
  {
   "cell_type": "code",
   "execution_count": null,
   "metadata": {
    "attributes": {
     "classes": [],
     "error": "FALSE",
     "id": "",
     "message": "FALSE,",
     "warning": "FALSE,"
    }
   },
   "outputs": [],
   "source": [
    "# Produce a prediction function that can use the model\n",
    "\n",
    "creditRiskPrediction <- function(account_id, amount_6, pur_6, avg_pur_amt_6, avg_interval_pur_6, \n",
    "                                 credit_limit, marital_status, sex, education, income, age)\n",
    "{ \n",
    "  newdata <- data.frame(account_id=account_id,\n",
    "                          amount_6=amount_6, \n",
    "                          pur_6=pur_6, \n",
    "                          avg_pur_amt_6=avg_pur_amt_6, \n",
    "                          avg_interval_pur_6=avg_interval_pur_6, \n",
    "                          credit_limit=credit_limit, \n",
    "                          marital_status=marital_status, \n",
    "                          sex=sex, \n",
    "                          education=education, \n",
    "                          income=income, \n",
    "                          age=age)\n",
    "  \n",
    "  pred <- rxPredict(modelObject=model_rxtrees, data=newdata)[, c(1, 3)]\n",
    "  pred <- cbind(newdata$account_id, pred)\n",
    "  names(pred) <- c(\"account_id\", \"scored_label\", \"scored_prob\")\n",
    "  pred \n",
    "}\n",
    "\n",
    "# Test function locally by printing results\n",
    "\n",
    "pred <- creditRiskPrediction(account_id=\"a_1055521029582310\",\n",
    "                             amount_6=173.22, \n",
    "                             pur_6=1, \n",
    "                             avg_pur_amt_6=173.22, \n",
    "                             avg_interval_pur_6=0, \n",
    "                             credit_limit=5.26, \n",
    "                             marital_status=\"married\", \n",
    "                             sex=\"male\", \n",
    "                             education=\"undergraduate\", \n",
    "                             income=12.36, \n",
    "                             age=38)\n",
    "\n",
    "print(pred)"
   ]
  },
  {
   "cell_type": "markdown",
   "metadata": {},
   "source": [
    "### 2.2 Publish model as a web service\n",
    "\n",
    "The second procedure is to publish the model as a web service by following the below steps.\n",
    "\n",
    "Step 1: From your local R IDE, log into Microsoft R Server with your credentials using the appropriate authentication function from the `mrsdeploy` package (remoteLogin or remoteLoginAAD). \n",
    "\n",
    "For simplicity, the code below uses the basic local admin account for authentication with the remoteLogin function and `session = false` so that no remote R session is started."
   ]
  },
  {
   "cell_type": "code",
   "execution_count": null,
   "metadata": {
    "attributes": {
     "classes": [],
     "error": "FALSE",
     "id": "",
     "message": "FALSE,",
     "warning": "FALSE,"
    }
   },
   "outputs": [],
   "source": [
    "# Use `remoteLogin` to authenticate with R Server using \n",
    "# the local admin account. Use session = false so no \n",
    "# remote R session started\n",
    "\n",
    "remoteLogin(\"http://localhost:12800\", \n",
    "         username=\"admin\", \n",
    "         password=\"P@ssw0rd\",\n",
    "         session=FALSE)"
   ]
  },
  {
   "cell_type": "markdown",
   "metadata": {},
   "source": [
    "Now, you are successfully connected to the remote R Server.\n",
    "\n",
    "Step 2: Publish the model as a web service to R Server using the `publishService()` function from the `mrsdeploy` package. \n",
    "\n",
    "In this example, you publish a web service called \"crpService\" using the model `model_rxtrees` and the function `creditRiskPrediction()`. As an input, the service takes a list of transaction statistics and demographic & bank account information represented as numerical or categorical. As an output, an R data frame including the account id, the predicted label of default, and the probability of default for the given individual account, has of being achieved with the pre-defined credit risk prediction function. \n",
    "\n",
    "When publishing, you must specify, among other parameters, a service name and version, the R code, the inputs, as well as the outputs that application developers will need to integrate in their applications."
   ]
  },
  {
   "cell_type": "code",
   "execution_count": null,
   "metadata": {
    "attributes": {
     "classes": [],
     "error": "FALSE",
     "id": "",
     "message": "FALSE,",
     "warning": "FALSE,"
    }
   },
   "outputs": [],
   "source": [
    "# Publish a web service\n",
    "\n",
    "api <- publishService(\n",
    "       \"crpService\",\n",
    "        code=creditRiskPrediction,\n",
    "        model=model_rxtrees,\n",
    "        inputs=list(account_id=\"character\",\n",
    "                    amount_6=\"numeric\", \n",
    "                    pur_6=\"numeric\", \n",
    "                    avg_pur_amt_6=\"numeric\", \n",
    "                    avg_interval_pur_6=\"numeric\", \n",
    "                    credit_limit=\"numeric\", \n",
    "                    marital_status=\"character\", \n",
    "                    sex=\"character\", \n",
    "                    education=\"character\", \n",
    "                    income=\"numeric\", \n",
    "                    age=\"numeric\"),\n",
    "        outputs=list(pred=\"data.frame\"),\n",
    "        v=\"v1.0.0\")"
   ]
  },
  {
   "cell_type": "markdown",
   "metadata": {},
   "source": [
    "### 2.3 Test the service by consuming it in R\n",
    "\n",
    "After publishing it , we can consume the service in R directly to verify that the results are as expected."
   ]
  },
  {
   "cell_type": "code",
   "execution_count": null,
   "metadata": {
    "attributes": {
     "classes": [],
     "error": "TRUE",
     "id": "",
     "message": "FALSE,",
     "warning": "FALSE,"
    }
   },
   "outputs": [],
   "source": [
    "# Get service and assign service to the variable `api`.\n",
    "\n",
    "api <- getService(\"crpService\", \"v1.0.0\")\n",
    "\n",
    "# Consume service by calling function, `creditRiskPrediction` contained in this service\n",
    "\n",
    "result <- api$creditRiskPrediction(account_id=\"a_1055521029582310\",\n",
    "                                   amount_6=173.22, \n",
    "                                   pur_6=1, \n",
    "                                   avg_pur_amt_6=173.22, \n",
    "                                   avg_interval_pur_6=0, \n",
    "                                   credit_limit=5.26, \n",
    "                                   marital_status=\"married\", \n",
    "                                   sex=\"male\", \n",
    "                                   education=\"undergraduate\", \n",
    "                                   income=12.36, \n",
    "                                   age=38)\n",
    "\n",
    "# Print response output named `answer`\n",
    "\n",
    "print(result$output(\"pred\")) "
   ]
  },
  {
   "cell_type": "markdown",
   "metadata": {},
   "source": [
    "### 2.4 Update the web service\n",
    "\n",
    "In the process of production, we could manage and update the web service timely."
   ]
  },
  {
   "cell_type": "code",
   "execution_count": null,
   "metadata": {
    "attributes": {
     "classes": [],
     "error": "TRUE",
     "id": "",
     "message": "FALSE,",
     "warning": "FALSE,"
    }
   },
   "outputs": [],
   "source": [
    "# Load the pre-trained optimal model obtained from the template of CreditRiskScale.\n",
    "\n",
    "load(file=\"model_rxtrees.RData\")\n",
    "\n",
    "model_rxtrees\n",
    "\n",
    "api <- updateService(name=\"crpService\", \n",
    "                     v=\"v1.0.0\",\n",
    "                     model=model_rxtrees,\n",
    "                     descr=\"Update the model hyper-parameters\")\n",
    "\n",
    "# Re-test the updated service by consuming it\n",
    "\n",
    "result <- api$creditRiskPrediction(account_id=\"a_1055521029582310\",\n",
    "                                   amount_6=173.22, \n",
    "                                   pur_6=1, \n",
    "                                   avg_pur_amt_6=173.22, \n",
    "                                   avg_interval_pur_6=0, \n",
    "                                   credit_limit=5.26, \n",
    "                                   marital_status=\"married\", \n",
    "                                   sex=\"male\", \n",
    "                                   education=\"undergraduate\", \n",
    "                                   income=12.36, \n",
    "                                   age=38)\n",
    "\n",
    "# Print response output named `answer`\n",
    "\n",
    "print(result$output(\"pred\")) "
   ]
  },
  {
   "cell_type": "markdown",
   "metadata": {},
   "source": [
    "### 2.5 Application Integration\n",
    "\n",
    "Last but not least, we can get the json file that is needed for application integration."
   ]
  },
  {
   "cell_type": "code",
   "execution_count": null,
   "metadata": {
    "attributes": {
     "classes": [],
     "error": "TRUE",
     "id": "",
     "message": "FALSE,",
     "warning": "FALSE,"
    }
   },
   "outputs": [],
   "source": [
    "# Get this service's `swagger.json` file that is needed for web application integration\n",
    "\n",
    "swagger <- api$swagger(json = FALSE)\n",
    "\n",
    "# Delete the service to make the script re-runable\n",
    "\n",
    "deleteService(name=\"crpService\", v=\"v1.0.0\")"
   ]
  }
 ],
 "metadata": {},
 "nbformat": 4,
 "nbformat_minor": 1
}
