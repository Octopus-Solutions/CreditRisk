{
 "cells": [
  {
   "cell_type": "markdown",
   "metadata": {},
   "source": [
    "---\n",
    "title: \"Credit Risk Application\"\n",
    "author: \"Fang Zhou, Data Scientist, Microsoft\"\n",
    "date: \"`r Sys.Date()`\"\n",
    "output: html_document\n",
    "---"
   ]
  },
  {
   "cell_type": "code",
   "execution_count": null,
   "metadata": {
    "attributes": {
     "classes": [],
     "id": "",
     "include": "FALSE,",
     "purl": "FALSE"
    }
   },
   "outputs": [],
   "source": [
    "knitr::opts_chunk$set(echo = TRUE,\n",
    "                      fig.width = 8,\n",
    "                      fig.height = 5,\n",
    "                      fig.align='center',\n",
    "                      dev = \"png\")"
   ]
  },
  {
   "cell_type": "markdown",
   "metadata": {},
   "source": [
    "## 1 Introduction\n",
    "\n",
    "This document will walk through how to develop a shiny application for credit risk prediction through REST API.\n",
    "\n",
    "## 2 Credit Risk Application through REST API\n",
    "\n",
    "### 2.1 Setup\n",
    "\n",
    "We load the required R packages."
   ]
  },
  {
   "cell_type": "code",
   "execution_count": null,
   "metadata": {
    "attributes": {
     "classes": [],
     "error": "FALSE",
     "id": "",
     "message": "FALSE,",
     "warning": "FALSE,"
    }
   },
   "outputs": [],
   "source": [
    "## Setup\n",
    "\n",
    "# Load the required packages into the R session.\n",
    "\n",
    "library(mrsdeploy)    # Get a web service by getService().\n",
    "library(shiny)        # Build a shiny application."
   ]
  },
  {
   "cell_type": "markdown",
   "metadata": {},
   "source": [
    "### 2.2 Shiny UI"
   ]
  },
  {
   "cell_type": "code",
   "execution_count": null,
   "metadata": {
    "attributes": {
     "classes": [],
     "error": "FALSE",
     "id": "",
     "message": "FALSE,",
     "warning": "FALSE,"
    }
   },
   "outputs": [],
   "source": [
    "# Define a shiny ui.\n",
    "\n",
    "ui <- fluidPage(\n",
    "  \n",
    "  titlePanel(\"Credit Risk Prediction\"),\n",
    "  \n",
    "  sidebarLayout(\n",
    "    sidebarPanel(\n",
    "      textInput(\"account_id\", \"Account ID\", \"a_1055521029582310\"),\n",
    "      textInput(\"amount_6\", \"Amount 6\", 173.22),\n",
    "      textInput(\"pur_6\", \"Pur 6\", 1),\n",
    "      textInput(\"avg_pur_amt_6\", \"Avg Pur Amt 6\", 173.22),\n",
    "      textInput(\"avg_interval_pur_6\", \"Avg Interval Pur 6\", 0),\n",
    "      textInput(\"credit_limit\", \"Credit Limit\", 5.26),\n",
    "      textInput(\"marital_status\", \"Marital Status\", \"married\"),\n",
    "      textInput(\"sex\", \"Sex\", \"male\"),\n",
    "      textInput(\"education\", \"Education\", \"undergraduate\"),\n",
    "      textInput(\"income\", \"Income\", 12.36),\n",
    "      textInput(\"age\", \"Age\", 38),\n",
    "      actionButton(\"do\", \"Start Credit Prediction\")\n",
    "    ),\n",
    "    mainPanel(\n",
    "      verbatimTextOutput(\"predResult\")\n",
    "    )\n",
    "  )\n",
    ")"
   ]
  },
  {
   "cell_type": "markdown",
   "metadata": {},
   "source": [
    "### 2.3 Shiny Server"
   ]
  },
  {
   "cell_type": "code",
   "execution_count": null,
   "metadata": {
    "attributes": {
     "classes": [],
     "error": "FALSE",
     "id": "",
     "message": "FALSE,",
     "warning": "FALSE,"
    }
   },
   "outputs": [],
   "source": [
    "# Define a shiny server which consumes the crpService.\n",
    "\n",
    "server <- function(input, output) {\n",
    "  \n",
    "  remoteLogin(\"http://localhost:12800\", \n",
    "              username=\"admin\", \n",
    "              password=\"P@ssw0rd\",\n",
    "              session=FALSE)\n",
    "  \n",
    "  api <- getService(\"crpService\", \"v1.0.0\")\n",
    "\n",
    "  observeEvent(input$do, {\n",
    "    \n",
    "    output$predResult <- renderPrint({\n",
    "      \n",
    "      account_id         <- as.character(input$account_id)\n",
    "      amount_6           <- as.numeric(input$amount_6)\n",
    "      pur_6              <- as.numeric(input$pur_6)\n",
    "      avg_pur_amt_6      <- as.numeric(input$avg_pur_amt_6)\n",
    "      avg_interval_pur_6 <- as.numeric(input$avg_interval_pur_6)\n",
    "      credit_limit       <- as.numeric(input$credit_limit)\n",
    "      marital_status     <- as.character(input$marital_status)\n",
    "      sex                <- as.character(input$sex)\n",
    "      education          <- as.character(input$education)\n",
    "      income             <- as.numeric(input$income)\n",
    "      age                <- as.numeric(input$age)\n",
    "    \n",
    "      result <- api$creditRiskPrediction(\n",
    "                       account_id,\n",
    "                       amount_6,\n",
    "                       pur_6,\n",
    "                       avg_pur_amt_6,\n",
    "                       avg_interval_pur_6,\n",
    "                       credit_limit,\n",
    "                       marital_status,\n",
    "                       sex,\n",
    "                       education,\n",
    "                       income,\n",
    "                       age)\n",
    "      \n",
    "      pred <- result$output(\"pred\")\n",
    "      \n",
    "      pred\n",
    "    })\n",
    "  })\n",
    "}"
   ]
  },
  {
   "cell_type": "markdown",
   "metadata": {},
   "source": [
    "### 2.4 Shiny App"
   ]
  },
  {
   "cell_type": "code",
   "execution_count": null,
   "metadata": {
    "attributes": {
     "classes": [],
     "error": "FALSE",
     "id": "",
     "message": "FALSE,",
     "warning": "FALSE,"
    }
   },
   "outputs": [],
   "source": [
    "# Call the defined shiny app.\n",
    "\n",
    "shinyApp(ui, server)"
   ]
  }
 ],
 "metadata": {},
 "nbformat": 4,
 "nbformat_minor": 1
}
