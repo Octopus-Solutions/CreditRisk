{
 "cells": [
  {
   "cell_type": "markdown",
   "metadata": {},
   "source": [
    "---\n",
    "title: \"Faster and Scalable Credit Risk Prediction\"\n",
    "author: \"Fang Zhou, Data Scientist, Microsoft\"\n",
    "date: \"`r Sys.Date()`\"\n",
    "output: html_document\n",
    "---"
   ]
  },
  {
   "cell_type": "code",
   "execution_count": null,
   "metadata": {
    "attributes": {
     "classes": [],
     "id": "",
     "include": "FALSE,",
     "purl": "FALSE"
    }
   },
   "outputs": [],
   "source": [
    "knitr::opts_chunk$set(echo = TRUE,\n",
    "                      fig.width = 8,\n",
    "                      fig.height = 5,\n",
    "                      fig.align='center',\n",
    "                      dev = \"png\")"
   ]
  },
  {
   "cell_type": "markdown",
   "metadata": {},
   "source": [
    "## 1 Introduction\n",
    "\n",
    "Microsoft R is a collection of servers and tools that extend the capabilities of R, making it easier and faster to build and deploy R-based solutions. Microsoft R brings you the ability to do parallel and chunked data processing and modelling that relax the restrictions on dataset size imposed by in-memory open source R. \n",
    "\n",
    "The `MicrosoftML` package brings new machine learning functionality with increased speed, performance and scalability, especially for handling a large corpus of text data or high-dimensional categorical data. The `MicrosoftML` package is installed with **Microsoft R Client**, **Microsoft R Server** and with the **SQL Server Machine Learning Services**.\n",
    "\n",
    "This document will walk through you how to build faster and scalable credit risk models, using the `MicrosoftML` package that adds state-of-the-art machine learning algorithms and data transforms to Microsoft R Server.\n",
    "\n",
    "## 2 Faster and Scalable Credit Risk Models\n",
    "\n",
    "### 2.1 Setup\n",
    "\n",
    "We load the required R packages."
   ]
  },
  {
   "cell_type": "code",
   "execution_count": null,
   "metadata": {
    "attributes": {
     "classes": [],
     "error": "FALSE",
     "id": "",
     "message": "FALSE,",
     "warning": "FALSE,"
    }
   },
   "outputs": [],
   "source": [
    "## Setup\n",
    "\n",
    "# Load the required packages into the R session.\n",
    "\n",
    "library(rattle)       # Use normVarNames().\n",
    "library(dplyr)        # Wrangling: tbl_df(), group_by(), print(), glimpse().\n",
    "library(magrittr)     # Pipe operator %>% %<>% %T>% equals().\n",
    "library(scales)       # Include commas in numbers.\n",
    "library(RevoScaleR)   # Enable out-of-memory computation in R.\n",
    "library(dplyrXdf)     # Wrangling on xdf data format.\n",
    "library(MicrosoftML)  # Build models using Microsoft ML algortihms.\n",
    "library(caret)        # Calculate confusion matrix by using confusionMatrix().\n",
    "library(ROCR)         # Provide functions for model performance evaluation."
   ]
  },
  {
   "cell_type": "markdown",
   "metadata": {},
   "source": [
    "Then, the dataset processedSimu is ingested and transformed into a `.xdf` data format. This dataset was created by the data preprocessing steps in the data science accelerator for credit risk prediction."
   ]
  },
  {
   "cell_type": "code",
   "execution_count": null,
   "metadata": {
    "attributes": {
     "classes": [],
     "error": "FALSE",
     "id": "",
     "message": "FALSE,",
     "warning": "FALSE,"
    }
   },
   "outputs": [],
   "source": [
    "## Data Ingestion\n",
    "\n",
    "# Identify the source location of the dataset.\n",
    "\n",
    "#DATA <- \"../../Data/\"\n",
    "#data_fname <- file.path(DATA, \"Raw/processedSimu.csv\")\n",
    "\n",
    "wd <- getwd()\n",
    "\n",
    "dpath <- \"../Data\"\n",
    "data_fname <- file.path(wd, dpath, \"processedSimu.csv\")\n",
    "output_fname <- file.path(wd, dpath, \"processedSimu.xdf\")\n",
    "output <- RxXdfData(file=output_fname)\n",
    "\n",
    "# Ingest the dataset.\n",
    "\n",
    "data <- rxImport(inData=data_fname, \n",
    "                 outFile=output,\n",
    "                 stringsAsFactors=TRUE,\n",
    "                 overwrite=TRUE)\n",
    "\n",
    "\n",
    "# View data information.\n",
    "\n",
    "rxGetVarInfo(data)"
   ]
  },
  {
   "cell_type": "markdown",
   "metadata": {},
   "source": [
    "### 2.2 Model Building\n",
    "\n",
    "Now, let's get started to build credit risk models by leveraging different machine learning algorithms from the `MicrosoftML` package. \n",
    "\n",
    "First of all, we create individual machine learning models on the dataset processedSimu.xdf by using the functions `rxLogisticRegression()`, `rxFastForest()`, `rxFastTrees()`. \n",
    "\n",
    "From the credit risk prediction template, we know that gradient boosting is the most suitable algorithm for this example, considering the overall performance. Therefore, the models implemented by the function `rxFastTrees()` with different sets of parameters are trained respectively."
   ]
  },
  {
   "cell_type": "code",
   "execution_count": null,
   "metadata": {
    "attributes": {
     "classes": [],
     "error": "FALSE",
     "id": "",
     "message": "FALSE,",
     "warning": "FALSE,"
    }
   },
   "outputs": [],
   "source": [
    "## Variable roles.\n",
    "\n",
    "# Target variable\n",
    "\n",
    "target <- \"bad_flag\"\n",
    "\n",
    "# Note any identifier.\n",
    "\n",
    "id <- c(\"account_id\") %T>% print() \n",
    "\n",
    "# Note the available variables as model inputs.\n",
    "\n",
    "vars <- setdiff(names(data), c(target, id))"
   ]
  },
  {
   "cell_type": "code",
   "execution_count": null,
   "metadata": {
    "attributes": {
     "classes": [],
     "error": "FALSE",
     "id": "",
     "message": "FALSE,",
     "warning": "FALSE,"
    }
   },
   "outputs": [],
   "source": [
    "# Split Data\n",
    "\n",
    "set.seed(42)\n",
    "\n",
    "# Add training/testing flag to each observation.\n",
    "\n",
    "data %<>%\n",
    "  mutate(.train=factor(sample(1:2, .rxNumRows,\n",
    "                              replace=TRUE,\n",
    "                              prob=c(0.70, 0.30)),\n",
    "                       levels=1:2))\n",
    "\n",
    "# Split dataset into training/test.\n",
    "\n",
    "data_split <- rxSplit(data, splitByFactor=\".train\")"
   ]
  },
  {
   "cell_type": "code",
   "execution_count": null,
   "metadata": {
    "attributes": {
     "classes": [],
     "error": "FALSE",
     "id": "",
     "message": "FALSE,",
     "warning": "FALSE,"
    }
   },
   "outputs": [],
   "source": [
    "# Prepare the formula\n",
    "\n",
    "top_vars <- c(\"amount_6\", \"pur_6\", \"avg_pur_amt_6\", \"avg_interval_pur_6\", \"credit_limit\", \"age\", \"income\", \"sex\", \"education\", \"marital_status\")\n",
    "\n",
    "form <- as.formula(paste(target, paste(top_vars, collapse=\"+\"), sep=\"~\"))\n",
    "form"
   ]
  },
  {
   "cell_type": "code",
   "execution_count": null,
   "metadata": {
    "attributes": {
     "classes": [],
     "error": "FALSE",
     "id": "",
     "message": "FALSE,",
     "warning": "FALSE,"
    }
   },
   "outputs": [],
   "source": [
    "# Specify the local parallel compute context.\n",
    "\n",
    "rxSetComputeContext(\"localpar\")\n",
    "\n",
    "# Train model: rxLogisticRegression\n",
    "\n",
    "time_rxlogit <- system.time(\n",
    "  \n",
    "  model_rxlogit <- rxLogisticRegression(\n",
    "    formula=form,\n",
    "    data=data_split[[1]],\n",
    "    type=\"binary\",\n",
    "    l1Weight=1,\n",
    "    verbose=0\n",
    "  )\n",
    ")\n",
    "\n",
    "# Train model: rxFastForest\n",
    "\n",
    "time_rxforest <- system.time(\n",
    "  \n",
    "  model_rxforest <- rxFastForest(\n",
    "    formula=form,\n",
    "    data=data_split[[1]],\n",
    "    type=\"binary\",\n",
    "    numTrees=100,\n",
    "    numLeaves=20,\n",
    "    minSplit=10,\n",
    "    verbose=0\n",
    "  )\n",
    ")\n",
    "\n",
    "# Train model: rxFastTrees\n",
    "\n",
    "time_rxtrees1 <- system.time(\n",
    "  \n",
    "  model_rxtrees1 <- rxFastTrees(\n",
    "    formula=form,\n",
    "    data=data_split[[1]],\n",
    "    type=\"binary\",\n",
    "    numTrees=100,\n",
    "    numLeaves=20,\n",
    "    learningRate=0.2,\n",
    "    minSplit=10,\n",
    "    unbalancedSets=FALSE,\n",
    "    verbose=0\n",
    "  )\n",
    ")\n",
    "\n",
    "time_rxtrees2 <- system.time(\n",
    "  \n",
    "  model_rxtrees2 <- rxFastTrees(\n",
    "    formula=form,\n",
    "    data=data_split[[1]],\n",
    "    type=\"binary\",\n",
    "    numTrees=500,\n",
    "    numLeaves=20,\n",
    "    learningRate=0.2,\n",
    "    minSplit=10,\n",
    "    unbalancedSets=FALSE,\n",
    "    verbose=0\n",
    "  )\n",
    ")\n",
    "\n",
    "time_rxtrees3 <- system.time(\n",
    "  \n",
    "  model_rxtrees3 <- rxFastTrees(\n",
    "    formula=form,\n",
    "    data=data_split[[1]],\n",
    "    type=\"binary\",\n",
    "    numTrees=500,\n",
    "    numLeaves=20,\n",
    "    learningRate=0.3,\n",
    "    minSplit=10,\n",
    "    unbalancedSets=FALSE,\n",
    "    verbose=0\n",
    "  )\n",
    ")\n",
    "\n",
    "time_rxtrees4 <- system.time(\n",
    "  \n",
    "  model_rxtrees4 <- rxFastTrees(\n",
    "    formula=form,\n",
    "    data=data_split[[1]],\n",
    "    type=\"binary\",\n",
    "    numTrees=500,\n",
    "    numLeaves=20,\n",
    "    learningRate=0.3,\n",
    "    minSplit=10,\n",
    "    unbalancedSets=TRUE,\n",
    "    verbose=0\n",
    "  )\n",
    ")"
   ]
  },
  {
   "cell_type": "markdown",
   "metadata": {},
   "source": [
    "Next, we build an ensemble of fast tree models by using the function `rxEnsemble()`."
   ]
  },
  {
   "cell_type": "code",
   "execution_count": null,
   "metadata": {
    "attributes": {
     "classes": [],
     "error": "FALSE",
     "id": "",
     "message": "FALSE,",
     "warning": "FALSE,"
    }
   },
   "outputs": [],
   "source": [
    "# Train an ensemble model.\n",
    "\n",
    "time_ensemble <- system.time(\n",
    "  \n",
    "  model_ensemble <- rxEnsemble(\n",
    "    formula=form,\n",
    "    data=data_split[[1]],\n",
    "    type=\"binary\",\n",
    "    trainers=list(fastTrees(), \n",
    "                  fastTrees(numTrees=500), \n",
    "                  fastTrees(numTrees=500, learningRate=0.3),\n",
    "                  fastTrees(numTrees=500, learningRate=0.3, unbalancedSets=TRUE)),\n",
    "    combineMethod=\"vote\",\n",
    "    replace=TRUE,\n",
    "    verbose=0\n",
    "  )\n",
    ")"
   ]
  },
  {
   "cell_type": "markdown",
   "metadata": {},
   "source": [
    "### 2.3 Model Evaluation \n",
    "\n",
    "Finally, we evaluate and compare the above built models at various aspects."
   ]
  },
  {
   "cell_type": "code",
   "execution_count": null,
   "metadata": {
    "attributes": {
     "classes": [],
     "error": "FALSE",
     "id": "",
     "message": "FALSE,",
     "warning": "FALSE,"
    }
   },
   "outputs": [],
   "source": [
    "# Predict\n",
    "\n",
    "models <- list(model_rxlogit, model_rxforest, \n",
    "               model_rxtrees1, model_rxtrees2, model_rxtrees3, model_rxtrees4, \n",
    "               model_ensemble)\n",
    "\n",
    "# Predict class\n",
    "\n",
    "predictions <- lapply(models, \n",
    "                      rxPredict, \n",
    "                      data=data_split[[2]]) %>%\n",
    "                lapply('[[', 1)\n",
    "\n",
    "levels(predictions[[7]]) <- c(\"no\", \"yes\")\n",
    "\n",
    "# Confusion matrix evaluation results.\n",
    "\n",
    "cm_metrics <-lapply(predictions,\n",
    "                    confusionMatrix, \n",
    "                    reference=data_split[[2]][[target]],\n",
    "                    positive=\"yes\")\n",
    "\n",
    "# Accuracy\n",
    "\n",
    "acc_metrics <- \n",
    "  lapply(cm_metrics, `[[`, \"overall\") %>%\n",
    "  lapply(`[`, 1) %>%\n",
    "  unlist() %>%\n",
    "  as.vector()\n",
    "\n",
    "# Recall\n",
    "\n",
    "rec_metrics <- \n",
    "  lapply(cm_metrics, `[[`, \"byClass\") %>%\n",
    "  lapply(`[`, 1) %>%\n",
    "  unlist() %>%\n",
    "  as.vector()\n",
    "  \n",
    "# Precision\n",
    "\n",
    "pre_metrics <- \n",
    "  lapply(cm_metrics, `[[`, \"byClass\") %>%\n",
    "  lapply(`[`, 3) %>%\n",
    "  unlist() %>%\n",
    "  as.vector()\n",
    "\n",
    "# Predict class probability\n",
    "\n",
    "probs <- lapply(models[c(1, 2, 3, 4, 5, 6)],\n",
    "                rxPredict,\n",
    "                data=data_split[[2]]) %>%\n",
    "                lapply('[[', 3)\n",
    "\n",
    "# Create prediction object\n",
    "\n",
    "preds <- lapply(probs, \n",
    "                ROCR::prediction,\n",
    "                labels=data_split[[2]][[target]])\n",
    "\n",
    "# Auc\n",
    "\n",
    "auc_metrics <- lapply(preds, \n",
    "                      ROCR::performance,\n",
    "                      \"auc\") %>%\n",
    "               lapply(slot, \"y.values\") %>%\n",
    "               lapply('[[', 1) %>%\n",
    "               unlist()\n",
    "\n",
    "auc_metrics <- c(auc_metrics, NaN)\n",
    "\n",
    "algo_list <- c(\"rxLogisticRegression\", \n",
    "               \"rxFastForest\", \n",
    "               \"rxFastTrees\", \n",
    "               \"rxFastTrees(500)\", \n",
    "               \"rxFastTrees(500, 0.3)\", \n",
    "               \"rxFastTrees(500, 0.3, ub)\",\n",
    "               \"rxEnsemble\")\n",
    "\n",
    "time_consumption <- c(time_rxlogit[3], time_rxforest[[3]], \n",
    "                      time_rxtrees1[3], time_rxtrees2[[3]], \n",
    "                      time_rxtrees3[[3]], time_rxtrees4[[3]],\n",
    "                      time_ensemble[3])\n",
    "\n",
    "df_comp <- \n",
    "  data.frame(Models=algo_list, \n",
    "             Accuracy=acc_metrics, \n",
    "             Recall=rec_metrics, \n",
    "             Precision=pre_metrics,\n",
    "             AUC=auc_metrics,\n",
    "             Time=time_consumption) %T>%\n",
    "             print()"
   ]
  },
  {
   "cell_type": "markdown",
   "metadata": {},
   "source": [
    "### 2.4 Save Models for Deployment\n",
    "\n",
    "Last but not least, we need to save the model objects in various formats, (e.g., `.RData`, `SQLServerData`, ect) for the later usage of deployment."
   ]
  },
  {
   "cell_type": "code",
   "execution_count": null,
   "metadata": {
    "attributes": {
     "classes": [],
     "error": "FALSE",
     "id": "",
     "message": "FALSE,",
     "warning": "FALSE,"
    }
   },
   "outputs": [],
   "source": [
    "# Save model for deployment usage.\n",
    "\n",
    "model_rxtrees <- model_rxtrees3\n",
    "\n",
    "save(model_rxtrees, file=\"model_rxtrees.RData\")"
   ]
  }
 ],
 "metadata": {},
 "nbformat": 4,
 "nbformat_minor": 1
}
